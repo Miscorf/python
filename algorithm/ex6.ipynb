{
 "cells": [
  {
   "cell_type": "markdown",
   "metadata": {},
   "source": [
    "实验七：最佳调度问题的回溯算法\n",
    "实验要求：\n",
    "\t设有n个任务由k个可并行工作的机器来完成，完成任务i需要时间为。试设计一个算法找出完成这n个任务的最佳调度，使完成全部任务的时间最早。（要求给出调度方案）。\n",
    "\n",
    "\t程序输入：从data.txt文件获取数据。\n",
    "\t\t第一行为任务数n和机器个数k。\n",
    "        第二行为完成任务i需要的时间 ，包含n个数据，以空格间隔。\n",
    "例如：\n",
    "\t3  2\n",
    "2.0 3.1 4.2\n",
    "表示有3个任务，2个机器。完成3个任务的时间分别为2.0, 3.1, 4.2。\n",
    "\t程序输出： \n",
    "\t\t输出所有任务完成的总时间，及调度方案。\n",
    "例如：\n",
    "针对上述数据，耗费的总时间为5.1，调度方案为机器1(任务1，任务2)，机器2(任务3)。\n"
   ]
  },
  {
   "cell_type": "code",
   "execution_count": 19,
   "metadata": {},
   "outputs": [
    {
     "name": "stdout",
     "output_type": "stream",
     "text": [
      "(10, 4, [1.0, 4.3, 10.3, 2.4, 5.3, 3.1, 4.9, 2.1, 8.4, 5.9])\n"
     ]
    }
   ],
   "source": [
    "def load_data():\n",
    "    file=open(\"D:\\Mis\\project\\python\\dataMine\\data\\ex6.txt\")    \n",
    "    p = file.readlines()\n",
    "    l = []\n",
    "    n = 0\n",
    "    k = 0\n",
    "    a = p[0].split(' ')\n",
    "    n = int (a[0])\n",
    "    k = int (a[1])\n",
    "    t = p[1].split(' ')\n",
    "    t = list(map(float, t))\n",
    "    return n,k,t\n",
    "print(load_data())"
   ]
  },
  {
   "cell_type": "code",
   "execution_count": 20,
   "metadata": {},
   "outputs": [
    {
     "name": "stdout",
     "output_type": "stream",
     "text": [
      "最优值： 12.39999999999955\n",
      "最优解： [4, 3, 2, 1, 4, 3, 3, 2, 1, 4]\n",
      "机器： 4 任务： [0, 4, 9]\n",
      "机器： 3 任务： [1, 5, 6]\n",
      "机器： 2 任务： [2, 7]\n",
      "机器： 1 任务： [3, 8]\n"
     ]
    }
   ],
   "source": [
    "n = 0  # 任务数\n",
    "k = 0  # 机器数\n",
    "best = 99999  # 最优值(完成全部任务的最早时间)\n",
    "le = []  # 每台机器已安排的时间\n",
    "t = []  # 每个任务所需的时间\n",
    "x = []  # 当前路径(调度)\n",
    "bestx = []  # 最优路径(调度)\n",
    " \n",
    " \n",
    "# 计算任务完成的时间\n",
    "def comp():\n",
    "    tmp = 0\n",
    "    for i in range(k):\n",
    "        if le[i] > tmp:\n",
    "            tmp = le[i]\n",
    "    return tmp\n",
    "# 以深度优先遍历方式遍历解空间树\n",
    "def search(dep, len, t):\n",
    " \n",
    "    global best\n",
    " \n",
    "    if dep == n:# 当深度和机器数一样时\n",
    "        tmp = comp() #计算最优时间 ， 如果小于best则更新，大于则结束递归\n",
    "        if tmp < best:\n",
    "            best = tmp\n",
    "            for i in range(n):\n",
    "                bestx[i] = x[i]\n",
    "        #print(len)\n",
    "        return\n",
    " \n",
    "    for i in range(k):\n",
    "        le[i]  = le[i] + t[dep] #第i个机器添加当前深度的作业时间\n",
    "        x[dep] = i + 1  #当前路径加1\n",
    "        if le[i] < best: #如果小于最优，继续下一层寻找\n",
    "            search(dep + 1, le, t)\n",
    "        le[i]  =le[i] - t[dep]\n",
    " \n",
    " \n",
    "if __name__==\"__main__\":\n",
    "    n,k,t = load_data()\n",
    "    le = [0 for _ in range(k)]  # k长度\n",
    "    x = [0 for _ in range(n)]  # n长度\n",
    "    bestx = [0 for _ in range(n)]  # n长度\n",
    " \n",
    "    search(0, le, t)\n",
    "    print(\"最优值：\", best)\n",
    "    print(\"最优解：\", bestx)\n",
    "    dic = {}\n",
    "    for i in range(n):\n",
    "        if bestx[i] not in dic:\n",
    "            a = []\n",
    "            a.append(i)\n",
    "            dic[bestx[i]] = a\n",
    "        else:\n",
    "            dic[bestx[i]].append(i)\n",
    "    for i,j in dic.items():\n",
    "        print('机器：',i,'任务：',j)"
   ]
  }
 ],
 "metadata": {
  "interpreter": {
   "hash": "ca0422c9975e5e7cf4e0d46dbc04b8de393be20f639917ec80eabe195a811ef3"
  },
  "kernelspec": {
   "display_name": "Python 3.7.3 64-bit ('base': conda)",
   "language": "python",
   "name": "python3"
  },
  "language_info": {
   "codemirror_mode": {
    "name": "ipython",
    "version": 3
   },
   "file_extension": ".py",
   "mimetype": "text/x-python",
   "name": "python",
   "nbconvert_exporter": "python",
   "pygments_lexer": "ipython3",
   "version": "3.7.3"
  },
  "orig_nbformat": 4
 },
 "nbformat": 4,
 "nbformat_minor": 2
}
