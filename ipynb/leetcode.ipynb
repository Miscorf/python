{
 "cells": [
  {
   "cell_type": "code",
   "execution_count": 3,
   "metadata": {},
   "outputs": [
    {
     "name": "stdout",
     "output_type": "stream",
     "text": [
      "2 True\n",
      "3 True\n",
      "4 False\n",
      "5 True\n",
      "6 False\n",
      "7 True\n",
      "8 False\n",
      "9 False\n"
     ]
    }
   ],
   "source": [
    "def isPrime(i):\n",
    "        if i == 2:\n",
    "            return True\n",
    "        for j in range(2,int(i/2)+1):\n",
    "            if i%j == 0:\n",
    "                return False\n",
    "        return True\n",
    "for i in range(2,10):\n",
    "    print(i,isPrime(i))"
   ]
  },
  {
   "cell_type": "code",
   "execution_count": 4,
   "metadata": {},
   "outputs": [
    {
     "name": "stdout",
     "output_type": "stream",
     "text": [
      "{'a': 3, 'b': 7, 'c': 5}\n"
     ]
    },
    {
     "data": {
      "text/plain": [
       "4"
      ]
     },
     "execution_count": 4,
     "metadata": {},
     "output_type": "execute_result"
    }
   ],
   "source": [
    "\n",
    "    def lengthOfLongestSubstring(s):\n",
    "        \"\"\"\n",
    "        :type s: str\n",
    "        :rtype: int\n",
    "        \"\"\"\n",
    "        d ={}\n",
    "        t = 0\n",
    "        j = 0\n",
    "        p = 0\n",
    "        for i in s:\n",
    "            if i in d:\n",
    "                if t<j - p:\n",
    "                    t = j-p\n",
    "                p = d[i]\n",
    "                d[i] =j\n",
    "            else:\n",
    "                d[i] = j\n",
    "            j+=1\n",
    "        print(d)\n",
    "        return t\n",
    "s = \"abcabcbb\"\n",
    "lengthOfLongestSubstring(s)\n",
    "# @lc code=end\n",
    "\n"
   ]
  },
  {
   "cell_type": "markdown",
   "metadata": {},
   "source": [
    "gr_user_id=cc459fbf-b0c9-4eaf-a6af-760393123223; grwng_uid=2ebd5dfc-fea5-4a7c-879c-aa7bc5442086; _ga=GA1.2.648471736.1551798683; a2873925c34ecbd2_gr_last_sent_cs1=miscorf; __auc=18ebf3c216d60d47360fdab7107; csrftoken=A1ga0nqACOVcCq2XQLQpAa2VlWwTfsYE3R2EYXLKxEL6pyi3QDmx5XiEMclXDJ4b; _gid=GA1.2.1963674687.1638709862; __asc=a0859d2317d92eb3067133dd540; Hm_lvt_fa218a3ff7179639febdb15e372f411c=1638716266,1638780224,1638782612,1638847427; a2873925c34ecbd2_gr_session_id=506b1389-7faa-4137-b1cd-325bc929be32; a2873925c34ecbd2_gr_last_sent_sid_with_cs1=506b1389-7faa-4137-b1cd-325bc929be32; a2873925c34ecbd2_gr_session_id_506b1389-7faa-4137-b1cd-325bc929be32=true; LEETCODE_SESSION=eyJ0eXAiOiJKV1QiLCJhbGciOiJIUzI1NiJ9.eyJuZXh0X2FmdGVyX29hdXRoIjoiL3Byb2JsZW1zZXQvYWxsLyIsIl9hdXRoX3VzZXJfaWQiOiI0MDc0NzgiLCJfYXV0aF91c2VyX2JhY2tlbmQiOiJkamFuZ28uY29udHJpYi5hdXRoLmJhY2tlbmRzLk1vZGVsQmFja2VuZCIsIl9hdXRoX3VzZXJfaGFzaCI6ImU2MTYwMzc1MGI1ZWEyYjNmNDQwNzA1MzYzNTlkZjM0ODYwNmNkZWE3MTM3ZDNiMzE2YjE1MjZhMTA5MjlmZjQiLCJpZCI6NDA3NDc4LCJlbWFpbCI6IjEyOTE1NzE1ODRAcXEuY29tIiwidXNlcm5hbWUiOiJtaXNjb3JmIiwidXNlcl9zbHVnIjoibWlzY29yZiIsImF2YXRhciI6Imh0dHBzOi8vYXNzZXRzLmxlZXRjb2RlLWNuLmNvbS9hbGl5dW4tbGMtdXBsb2FkL3VzZXJzL21pc2NvcmYvYXZhdGFyXzE1NTE3NDQ1ODYucG5nIiwicGhvbmVfdmVyaWZpZWQiOmZhbHNlLCJfdGltZXN0YW1wIjoxNjM4ODQ3ODM1LjQwODMxNzgsImV4cGlyZWRfdGltZV8iOjE2NDE0MDkyMDAsImxhdGVzdF90aW1lc3RhbXBfIjoxNjM4ODQ3ODYxfQ.YmPzJ-nDJz4nNx72iHvvQ5v7Z8wzhVOCQzPAF3ypXfI; Hm_lpvt_fa218a3ff7179639febdb15e372f411c=1638847936; a2873925c34ecbd2_gr_cs1=miscorf\n"
   ]
  },
  {
   "cell_type": "code",
   "execution_count": 13,
   "metadata": {},
   "outputs": [
    {
     "name": "stdout",
     "output_type": "stream",
     "text": [
      "6\n",
      "2 1 3\n",
      "7\n"
     ]
    }
   ],
   "source": [
    "def Trangle(tran):\n",
    "    j = 1\n",
    "    d = tran\n",
    "    for i in range(1,len(tran)):\n",
    "        d[i][0] = tran[i][0]+tran[i-1][0]\n",
    "        d[i][-1] = tran[i][-1]+tran[i-1][-1]\n",
    "    for i in range(2,len(tran)):\n",
    "        for j in range(1,len(tran[i])-1):\n",
    "            print(i,j,len(tran[i]))\n",
    "            d[i][j] = min(d[i-1][j-1]+tran[i][j],d[i-1][j]+tran[i][j])\n",
    "    return min(d[len(d)-1])\n",
    "trangle = [[1],[2,3],[4,5,6]]\n",
    "print(trangle[2][2])\n",
    "print(Trangle(trangle))\n"
   ]
  }
 ],
 "metadata": {
  "interpreter": {
   "hash": "ca0422c9975e5e7cf4e0d46dbc04b8de393be20f639917ec80eabe195a811ef3"
  },
  "kernelspec": {
   "display_name": "Python 3.7.3 64-bit ('base': conda)",
   "language": "python",
   "name": "python3"
  },
  "language_info": {
   "codemirror_mode": {
    "name": "ipython",
    "version": 3
   },
   "file_extension": ".py",
   "mimetype": "text/x-python",
   "name": "python",
   "nbconvert_exporter": "python",
   "pygments_lexer": "ipython3",
   "version": "3.7.3"
  },
  "orig_nbformat": 4
 },
 "nbformat": 4,
 "nbformat_minor": 2
}
