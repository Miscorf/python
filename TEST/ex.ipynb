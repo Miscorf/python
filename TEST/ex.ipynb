{
 "cells": [
  {
   "cell_type": "code",
   "execution_count": 1,
   "metadata": {},
   "outputs": [
    {
     "name": "stdout",
     "output_type": "stream",
     "text": [
      "{'fifty': 1, 'ten': 4, 'five': 1, 'two': 0, 'one': 1}\n"
     ]
    }
   ],
   "source": [
    "def money(my):\n",
    "    my = 100 - my\n",
    "    fifty = 0\n",
    "    ten = 0\n",
    "    five = 0\n",
    "    two = 0\n",
    "    one = 0\n",
    "    while(my>0):\n",
    "        if my>=50:\n",
    "            fifty += 1\n",
    "            my -= 50\n",
    "        elif my>=10:\n",
    "            ten += 1\n",
    "            my -= 10\n",
    "        elif my>=5:\n",
    "            five += 1\n",
    "            my -= 5\n",
    "        elif my>=2:\n",
    "            two += 1\n",
    "            my -= 2\n",
    "        elif my>=1:\n",
    "            one += 1\n",
    "            my -=1\n",
    "    return {'fifty':fifty,'ten':ten,'five':five,'two':two,'one':one}\n",
    "print(money(4))\n",
    "\n"
   ]
  },
  {
   "cell_type": "code",
   "execution_count": null,
   "metadata": {},
   "outputs": [],
   "source": [
    "\n"
   ]
  },
  {
   "cell_type": "code",
   "execution_count": null,
   "metadata": {},
   "outputs": [],
   "source": []
  }
 ],
 "metadata": {
  "interpreter": {
   "hash": "ca0422c9975e5e7cf4e0d46dbc04b8de393be20f639917ec80eabe195a811ef3"
  },
  "kernelspec": {
   "display_name": "Python 3.7.3 64-bit ('base': conda)",
   "language": "python",
   "name": "python3"
  },
  "language_info": {
   "codemirror_mode": {
    "name": "ipython",
    "version": 3
   },
   "file_extension": ".py",
   "mimetype": "text/x-python",
   "name": "python",
   "nbconvert_exporter": "python",
   "pygments_lexer": "ipython3",
   "version": "3.7.3"
  },
  "orig_nbformat": 4
 },
 "nbformat": 4,
 "nbformat_minor": 2
}
