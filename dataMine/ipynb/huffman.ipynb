{
 "cells": [
  {
   "cell_type": "markdown",
   "metadata": {},
   "source": [
    "实验六：Huffman编码问题\n",
    "实验要求：\n",
    "\t编程实现Huffman编码问题，并理解其核心思想。\n",
    "\t对字符串进行01编码，输出编码后的01序列，并比较其相对于定长编码的压缩率。例如对于字符串“AABBBEEEEGZ”,如果使用定长编码，‘A’、‘B’、‘E’、‘G’、‘Z’字符各需要3位01串编码，编码后的字符长度为3*11=33位，如果使用Huffman编码，可编码为下图，编码后的字符长度为2*3+3*2+4*1+4+4=24，压缩率为24/33=72.73%.\n",
    "\n",
    " \n",
    "对文件data.txt的字符串按照Huffman编码方式编码为01序列，并输出到encode.txt文件，控制台打印压缩率。\n",
    "\t程序输入：\n",
    "\t\t字符串文件data.txt。\t\t\n",
    "\t程序输出： \n",
    "\t\t压缩后的01序列输出到encode.txt，控制台打印压缩率。\n",
    "\t\n",
    "\n",
    "\n",
    "提交方式：\n",
    "\t1. 提交内容：程序源码 + 实验报告\n",
    "\t2. 提交方式:  邮件发送到 algsse21@163.com , 邮件名按: 学号-姓名-第x次试验。该邮箱设置了自动回复，如果发送邮件后未收到确认邮件可多试几次，如果仍然未收到确认邮件请及时联系助教。同一次实验如需多次提交（例如附件放错源码或者实验报告等），可再在第二次及以后的邮件名中备注，例如： SA2101100x-张三-第一次实验2。（请在发送前检查好附件内容以减少此类问题。）\n",
    "\t3. Deadline:  该次实验结束2周内,实验报告最晚提交时间为12月29日 晚上11.59之前, 超过ddl才提交的该次实验成绩按8折处理。 \n",
    "\n"
   ]
  },
  {
   "cell_type": "code",
   "execution_count": 1,
   "metadata": {},
   "outputs": [
    {
     "name": "stdout",
     "output_type": "stream",
     "text": [
      "{'A': 10, 'S': 2, 'M': 1, 'B': 3, 'R': 4, 'C': 3, 'N': 1, 'E': 2, 'F': 4}\n",
      "({'A': 10, 'S': 2, 'M': 1, 'B': 3, 'R': 4, 'C': 3, 'N': 1, 'E': 2, 'F': 4}, ['A', 'S', 'M', 'B', 'R', 'C', 'N', 'E', 'F'], [10, 2, 1, 3, 4, 3, 1, 2, 4])\n"
     ]
    }
   ],
   "source": [
    "def load_data():\n",
    "    file=open(\"D:\\Mis\\project\\python\\dataMine\\data\\huffman.txt\")    \n",
    "    p = file.readlines()\n",
    "    dic = {}\n",
    "    for i in p[0]:\n",
    "        if  i in dic:\n",
    "            dic[i] += 1\n",
    "        else :\n",
    "            dic[i] = 1\n",
    "    print(dic)\n",
    "    return dic,list(dic.keys()),list(dic.values())\n",
    "print(load_data())"
   ]
  },
  {
   "cell_type": "code",
   "execution_count": 2,
   "metadata": {},
   "outputs": [
    {
     "name": "stdout",
     "output_type": "stream",
     "text": [
      "{'A': 10, 'S': 2, 'M': 1, 'B': 3, 'R': 4, 'C': 3, 'N': 1, 'E': 2, 'F': 4}\n",
      "['A', 'S', 'M', 'B', 'R', 'C', 'N', 'E', 'F'] [10, 2, 1, 3, 4, 3, 1, 2, 4]\n",
      "M 0000 4\n",
      "N 0001 4\n",
      "B 001 3\n",
      "C 010 3\n",
      "R 011 3\n",
      "F 100 3\n",
      "S 1010 4\n",
      "E 1011 4\n",
      "A 11 2\n",
      "{'M': 4, 'N': 4, 'B': 3, 'C': 3, 'R': 3, 'F': 3, 'S': 4, 'E': 4, 'A': 2}\n",
      "压缩率 0.7166666666666667\n"
     ]
    }
   ],
   "source": [
    "class Node:\n",
    "    # 定义一个节点，表示树的节点\n",
    "    def __init__(self, name, weight, left=None, right=None, father=None):\n",
    "        self.name = name\n",
    "        self.weight = weight\n",
    "        self.left = left\n",
    "        self.right = right\n",
    "        self.father = father\n",
    "        self.level = 0\n",
    "\n",
    "    \n",
    "    # def is_left(self):\n",
    "    #     return self.father.left == self\n",
    "\n",
    "\n",
    "def create_node(words, weights):\n",
    "    # 将各单词与其权值装载为 node 树节点，返回树节点列表\n",
    "    node_list = []\n",
    "    for i in range(len(words)):\n",
    "        node_list.append(Node(words[i], weights[i]))\n",
    "    return node_list\n",
    "\n",
    "\n",
    "def create_huffman_tree(node_list):\n",
    "    # 将树节点列表进行升序排序。每次取出权值最小的两个节点合并\n",
    "    node_list.sort(key=lambda node: node.weight)\n",
    "    left = node_list.pop(0)\n",
    "    right = node_list.pop(0)\n",
    "    new_node = Node(left.name+right.name, left.weight+right.weight, left, right, None)\n",
    "    # 将合并后的节点再次装入节点列表中\n",
    "    node_list.append(new_node)\n",
    "    # 判断节点列表是否只剩下一个元素（即根节点），若不是，则递归执行此函数\n",
    "    return node_list[0] if len(node_list) == 1 else create_huffman_tree(node_list)\n",
    "\n",
    "\n",
    "def get_huffman_code(root,d,code=''):\n",
    "    # 根据数的根节点，递归判断每个节点是不是叶子节点，若是则输出此节点对应的huffman编码\n",
    "    if root.left is None:\n",
    "        root.level = len(code)\n",
    "        d[root.name] = root.level\n",
    "        print(root.name, code , root.level)\n",
    "    else:\n",
    "        get_huffman_code(root.left,d, code+\"0\")\n",
    "        get_huffman_code(root.right,d, code+\"1\")\n",
    "        \n",
    "def min_two(x):\n",
    "    for i in range(x):\n",
    "        if 2**i>x:\n",
    "            return i\n",
    "\n",
    "if __name__ == '__main__':\n",
    "    word_list = ['a', 'b', 'c', 'd', 'e', 'f']\n",
    "    weight_list = [19, 22, 14, 7, 11, 23]\n",
    "    d,word_list,weight_list = load_data()\n",
    "    print(word_list,weight_list)\n",
    "    nodes = create_node(word_list, weight_list)\n",
    "    dic = {}\n",
    "    get_huffman_code(create_huffman_tree(nodes), dic,'')\n",
    "    print(dic)\n",
    "    after = 0\n",
    "    for i in word_list:\n",
    "        after = after + d[i]*dic[i]\n",
    "    before = 0\n",
    "    min_size = min_two(len(d))\n",
    "    for i in word_list:\n",
    "        before = before + d[i]*min_size\n",
    "    print(\"压缩率\", after/before)\n",
    "\n",
    "\n",
    "\n"
   ]
  }
 ],
 "metadata": {
  "interpreter": {
   "hash": "ca0422c9975e5e7cf4e0d46dbc04b8de393be20f639917ec80eabe195a811ef3"
  },
  "kernelspec": {
   "display_name": "Python 3.7.3 64-bit ('base': conda)",
   "language": "python",
   "name": "python3"
  },
  "language_info": {
   "codemirror_mode": {
    "name": "ipython",
    "version": 3
   },
   "file_extension": ".py",
   "mimetype": "text/x-python",
   "name": "python",
   "nbconvert_exporter": "python",
   "pygments_lexer": "ipython3",
   "version": "3.7.3"
  },
  "orig_nbformat": 4
 },
 "nbformat": 4,
 "nbformat_minor": 2
}
