{
 "cells": [
  {
   "cell_type": "code",
   "execution_count": 69,
   "metadata": {},
   "outputs": [],
   "source": [
    "import numpy as np\n"
   ]
  },
  {
   "cell_type": "code",
   "execution_count": 70,
   "metadata": {},
   "outputs": [
    {
     "name": "stdout",
     "output_type": "stream",
     "text": [
      "10 dim= 0 ()\n"
     ]
    }
   ],
   "source": [
    "x = np.array(10)\n",
    "print(x,'dim=',x.ndim,x.shape)"
   ]
  },
  {
   "cell_type": "code",
   "execution_count": 71,
   "metadata": {},
   "outputs": [
    {
     "name": "stdout",
     "output_type": "stream",
     "text": [
      "[1 2 3 4 5] dim= 1 (5,) 5\n"
     ]
    }
   ],
   "source": [
    "y =  np.array([1,2,3,4,5])\n",
    "print(y,'dim=',y.ndim,y.shape,y.shape[0])"
   ]
  },
  {
   "cell_type": "code",
   "execution_count": 72,
   "metadata": {},
   "outputs": [
    {
     "name": "stdout",
     "output_type": "stream",
     "text": [
      "[[[1. 1.]\n",
      "  [1. 1.]]\n",
      "\n",
      " [[1. 1.]\n",
      "  [1. 1.]]\n",
      "\n",
      " [[1. 1.]\n",
      "  [1. 1.]]]\n",
      "[[[2. 3.]\n",
      "  [4. 5.]]\n",
      "\n",
      " [[2. 3.]\n",
      "  [4. 5.]]\n",
      "\n",
      " [[2. 3.]\n",
      "  [4. 5.]]]\n"
     ]
    }
   ],
   "source": [
    "x = np.array([[1,2],[3,4]])\n",
    "y = np.ones((3,2,2))\n",
    "print(y)\n",
    "print(x+y)"
   ]
  },
  {
   "cell_type": "code",
   "execution_count": 73,
   "metadata": {},
   "outputs": [],
   "source": [
    "def countPrimes(n):\n",
    "       def countPrimes(n):\n",
    "        \"\"\"\n",
    "        :type n: int\n",
    "        :rtype: int\n",
    "        \"\"\"\n",
    "        s = []\n",
    "        for i in range(n):\n",
    "            s.append(0)\n",
    "        for i in range(2,n):\n",
    "            if s[i] == 1 :\n",
    "                continue\n",
    "            for j in range(i,n):\n",
    "                if i*j<n:\n",
    "                    s[i*j] = 1\n",
    "        for i in range(n):\n",
    "            print(i,s[i])\n",
    "        count = 0\n",
    "        for i in range(2,n):\n",
    "            if s[i]==0:\n",
    "                count +=1\n",
    "        return count\n",
    "\n",
    "\n",
    "countPrimes(10)"
   ]
  },
  {
   "cell_type": "code",
   "execution_count": 74,
   "metadata": {},
   "outputs": [
    {
     "name": "stdout",
     "output_type": "stream",
     "text": [
      "[-1, 3, 2, 4, -1, 0, -1, -1, -1, -1, -1, -1, -1, -1, -1, -1, -1, -1, -1, -1, -1, -1, -1, -1, -1, -1, -1, -1, -1, -1, 1, -1, -1, -1, -1, -1, -1, -1, -1, -1]\n",
      "[2, 1, 4, 5, 3]\n",
      "1\n",
      "['Silver Medal', 'Gold Medal', '4', '5', 'Bronze Medal']\n"
     ]
    },
    {
     "data": {
      "text/plain": [
       "[3, 2, 4, 0, 1]"
      ]
     },
     "execution_count": 74,
     "metadata": {},
     "output_type": "execute_result"
    }
   ],
   "source": [
    "def findRelativeRanks(score):\n",
    "        \"\"\"\n",
    "        :type score: List[int]\n",
    "        :rtype: List[str]\n",
    "        \"\"\"\n",
    "        l = []\n",
    "        for i in range(40):\n",
    "            l.append(-1)\n",
    "        j = 0\n",
    "        for i in score:\n",
    "            l[i] = j\n",
    "            j += 1\n",
    "        k = []\n",
    "        j = 0\n",
    "        print(l)\n",
    "        for i in l:\n",
    "            # if i == len(score)-1:\n",
    "            #     k.append(\"Gold Medal\")\n",
    "            # elif i==len(score)-2:\n",
    "\n",
    "            #     k.append(\"Silver Medal\")\n",
    "            # elif i==len(score)-3:\n",
    "        \n",
    "            #     k.append(\"Bronze Medal\")\n",
    "            if i==-1:\n",
    "                continue\n",
    "            else:\n",
    "                k.append(i)\n",
    "        p = []   \n",
    "        for i in range(len(k)):\n",
    "            p.append(0)\n",
    "        le = len(k)\n",
    "        j=0\n",
    "        for i in k:\n",
    "            p[i] = le-j\n",
    "            j+=1\n",
    "        print(p)\n",
    "        for i in range(le):\n",
    "            if p[i] == 1:\n",
    "                p[i]=\"Gold Medal\"\n",
    "                print(i)\n",
    "            elif p[i]==2:\n",
    "                p[i]=\"Silver Medal\"\n",
    "            elif p[i]==3:\n",
    "                p[i]=\"Bronze Medal\"\n",
    "            else:\n",
    "                p[i] = str(p[i])\n",
    "        print(p)\n",
    "        return k\n",
    "l = [5,30,2,1,3]\n",
    "findRelativeRanks(l)"
   ]
  }
 ],
 "metadata": {
  "interpreter": {
   "hash": "541f8a8ba127759f46158badcf374a0dc42df5c73bf6bc3acc4785702efae74a"
  },
  "kernelspec": {
   "display_name": "Python 3.7.11 64-bit ('DeepLearn': conda)",
   "language": "python",
   "name": "python3"
  },
  "language_info": {
   "codemirror_mode": {
    "name": "ipython",
    "version": 3
   },
   "file_extension": ".py",
   "mimetype": "text/x-python",
   "name": "python",
   "nbconvert_exporter": "python",
   "pygments_lexer": "ipython3",
   "version": "3.7.3"
  },
  "orig_nbformat": 4
 },
 "nbformat": 4,
 "nbformat_minor": 2
}
