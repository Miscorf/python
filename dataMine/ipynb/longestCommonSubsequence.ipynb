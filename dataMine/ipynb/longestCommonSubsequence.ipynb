{
 "cells": [
  {
   "cell_type": "code",
   "execution_count": 1,
   "id": "48ccd8c9",
   "metadata": {},
   "outputs": [
    {
     "name": "stdout",
     "output_type": "stream",
     "text": [
      "[[0. 0. 0. 0. 0.]\n",
      " [0. 0. 0. 0. 0.]\n",
      " [0. 0. 0. 0. 0.]\n",
      " [0. 0. 0. 0. 0.]\n",
      " [0. 0. 0. 0. 0.]]\n"
     ]
    }
   ],
   "source": [
    "import numpy as np\n",
    "d = np.zeros((5,5))\n",
    "print(d)\n",
    "def longestCommonSubsequence(x,y):\n",
    "    m = len(x)\n",
    "    n = len(y)\n",
    "    c = [[0] * (n) for _ in range(m)] # dp数组\n",
    "    b = [[0] * (n) for _ in range(m)] # 用来标记打印情况的\n",
    "    for i in range(1,m):\n",
    "        for j in range(1,n): # 根据递推公式如下\n",
    "            if x[i] == y[j]:\n",
    "                c[i][j] = c[i-1][j-1]+1\n",
    "                b[i][j] = 1\n",
    "            elif c[i-1][j]>=c[i][j-1]:\n",
    "                c[i][j] = c[i-1][j]\n",
    "                b[i][j] = 2\n",
    "            else:\n",
    "                c[i][j] = c[i][j-1]\n",
    "                b[i][j] = 3\n",
    "    return c,b \n"
   ]
  },
  {
   "cell_type": "code",
   "execution_count": 2,
   "metadata": {},
   "outputs": [],
   "source": [
    "def PRINT_LCS(b,X,i,j):\n",
    "    if i==0 or j==0:\n",
    "        return\n",
    "    if b[i][j] == 1:\n",
    "        PRINT_LCS(b,X,i-1,j-1)\n",
    "        print(X[i-1])\n",
    "    elif b[i][j] == 2:\n",
    "        PRINT_LCS(b,X,i-1,j)\n",
    "    elif b[i][j] == 3:\n",
    "        PRINT_LCS(b,X,i,j-1)\n"
   ]
  },
  {
   "cell_type": "code",
   "execution_count": 3,
   "metadata": {},
   "outputs": [
    {
     "name": "stdout",
     "output_type": "stream",
     "text": [
      "[0, 0, 0, 0, 0, 0, 0, 0]\n",
      "[0, 1, 3, 3, 1, 3, 1, 3]\n",
      "[0, 2, 2, 2, 2, 2, 2, 2]\n",
      "[0, 2, 1, 3, 3, 3, 3, 3]\n",
      "[0, 2, 2, 2, 2, 1, 3, 1]\n",
      "[0, 2, 2, 1, 3, 2, 2, 2]\n",
      "[0, 2, 2, 2, 2, 2, 2, 2]\n",
      "[0, 2, 2, 1, 2, 2, 2, 2]\n",
      "[0, 1, 2, 2, 1, 3, 1, 3]\n",
      "abcdefea\n",
      "a\n",
      "c\n",
      "d\n",
      "a\n"
     ]
    }
   ],
   "source": [
    "x = \"abcdefea\"\n",
    "y = \"aceadad\"\n",
    "\n",
    "x = \" \"+x\n",
    "y = \" \"+y\n",
    "c,d = longestCommonSubsequence(x,y)\n",
    "for i in d:\n",
    "    print(i)\n",
    "print(x[1:])\n",
    "PRINT_LCS(d,x[1:],len(x)-1,len(y)-1)\n"
   ]
  }
 ],
 "metadata": {
  "interpreter": {
   "hash": "ca0422c9975e5e7cf4e0d46dbc04b8de393be20f639917ec80eabe195a811ef3"
  },
  "kernelspec": {
   "display_name": "Python 3.7.3 64-bit ('base': conda)",
   "language": "python",
   "name": "python3"
  },
  "language_info": {
   "codemirror_mode": {
    "name": "ipython",
    "version": 3
   },
   "file_extension": ".py",
   "mimetype": "text/x-python",
   "name": "python",
   "nbconvert_exporter": "python",
   "pygments_lexer": "ipython3",
   "version": "3.7.3"
  },
  "orig_nbformat": 4
 },
 "nbformat": 4,
 "nbformat_minor": 2
}
