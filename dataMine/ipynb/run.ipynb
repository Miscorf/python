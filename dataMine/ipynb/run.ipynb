{
 "cells": [
  {
   "cell_type": "code",
   "execution_count": 9,
   "metadata": {},
   "outputs": [],
   "source": [
    "import queue\n"
   ]
  },
  {
   "cell_type": "code",
   "execution_count": 10,
   "metadata": {},
   "outputs": [
    {
     "name": "stdout",
     "output_type": "stream",
     "text": [
      "1 False\n"
     ]
    }
   ],
   "source": [
    "q = queue.Queue()\n",
    "q.put(1)\n",
    "q.put(2)\n",
    "c=q.get()\n",
    "print(c,q.empty())"
   ]
  },
  {
   "cell_type": "code",
   "execution_count": 11,
   "metadata": {},
   "outputs": [],
   "source": [
    "def validPalindrome(s):\n",
    "        \"\"\"\n",
    "        :type s: str\n",
    "        :rtype: bool\n",
    "        \"\"\"\n",
    "        flag = 0\n",
    "        i = 0\n",
    "        print(s)\n",
    "        for i in range(len(s)):\n",
    "            if s[i]!=s[-i-1]:\n",
    "                print(s[i],s[-i-1])\n",
    "                break\n",
    "            if i == len(s):\n",
    "                return True,s,s\n",
    "        if i == 0:\n",
    "           j =s[1:]\n",
    "           k =s[0:-1]\n",
    "        else: \n",
    "            j = s[i+1:-i]\n",
    "            k = s[i:-i-1]\n",
    "        \n",
    "        for q in range(len(j)):\n",
    "            if j[q]!=j[-q-1]:\n",
    "                flag = flag +1\n",
    "                break\n",
    "        for q in range(len(k)):\n",
    "            if k[q]!=k[-q-1]:\n",
    "                flag = flag +1\n",
    "                break\n",
    "        if flag < 2:\n",
    "            return True,j,k\n",
    "        return False,j,k"
   ]
  },
  {
   "cell_type": "code",
   "execution_count": 12,
   "metadata": {},
   "outputs": [
    {
     "name": "stdout",
     "output_type": "stream",
     "text": [
      "atbbga\n",
      "t g\n",
      "False bbg tbb\n"
     ]
    }
   ],
   "source": [
    "s = 'atbbga'\n",
    "a,b,c = validPalindrome(s)\n",
    "print(a,b,c)"
   ]
  },
  {
   "cell_type": "code",
   "execution_count": 13,
   "metadata": {},
   "outputs": [
    {
     "ename": "FileNotFoundError",
     "evalue": "[Errno 2] No such file or directory: 'D:\\\\Mis\\\\Destop\\\\ex2.txt'",
     "output_type": "error",
     "traceback": [
      "\u001b[1;31m---------------------------------------------------------------------------\u001b[0m",
      "\u001b[1;31mFileNotFoundError\u001b[0m                         Traceback (most recent call last)",
      "\u001b[1;32m<ipython-input-13-eec51a3f9d9f>\u001b[0m in \u001b[0;36m<module>\u001b[1;34m\u001b[0m\n\u001b[0;32m      9\u001b[0m     \u001b[0mfile\u001b[0m\u001b[1;33m.\u001b[0m\u001b[0mclose\u001b[0m\u001b[1;33m(\u001b[0m\u001b[1;33m)\u001b[0m\u001b[1;33m\u001b[0m\u001b[1;33m\u001b[0m\u001b[0m\n\u001b[0;32m     10\u001b[0m     \u001b[1;32mreturn\u001b[0m \u001b[0ml\u001b[0m\u001b[1;33m\u001b[0m\u001b[1;33m\u001b[0m\u001b[0m\n\u001b[1;32m---> 11\u001b[1;33m \u001b[0mload_data\u001b[0m\u001b[1;33m(\u001b[0m\u001b[1;33m)\u001b[0m\u001b[1;33m\u001b[0m\u001b[1;33m\u001b[0m\u001b[0m\n\u001b[0m",
      "\u001b[1;32m<ipython-input-13-eec51a3f9d9f>\u001b[0m in \u001b[0;36mload_data\u001b[1;34m()\u001b[0m\n\u001b[0;32m      1\u001b[0m \u001b[1;31m#读取文件\u001b[0m\u001b[1;33m\u001b[0m\u001b[1;33m\u001b[0m\u001b[1;33m\u001b[0m\u001b[0m\n\u001b[0;32m      2\u001b[0m \u001b[1;32mdef\u001b[0m \u001b[0mload_data\u001b[0m\u001b[1;33m(\u001b[0m\u001b[1;33m)\u001b[0m\u001b[1;33m:\u001b[0m\u001b[1;33m\u001b[0m\u001b[1;33m\u001b[0m\u001b[0m\n\u001b[1;32m----> 3\u001b[1;33m     \u001b[0mfile\u001b[0m\u001b[1;33m=\u001b[0m\u001b[0mopen\u001b[0m\u001b[1;33m(\u001b[0m\u001b[1;34m\"D:\\Mis\\Destop\\ex2.txt\"\u001b[0m\u001b[1;33m,\u001b[0m\u001b[0mencoding\u001b[0m\u001b[1;33m=\u001b[0m\u001b[1;34m'utf-8'\u001b[0m\u001b[1;33m)\u001b[0m\u001b[1;33m\u001b[0m\u001b[1;33m\u001b[0m\u001b[0m\n\u001b[0m\u001b[0;32m      4\u001b[0m     \u001b[0mp\u001b[0m \u001b[1;33m=\u001b[0m \u001b[0mfile\u001b[0m\u001b[1;33m.\u001b[0m\u001b[0mreadlines\u001b[0m\u001b[1;33m(\u001b[0m\u001b[1;33m)\u001b[0m\u001b[1;33m\u001b[0m\u001b[1;33m\u001b[0m\u001b[0m\n\u001b[0;32m      5\u001b[0m     \u001b[0ml\u001b[0m\u001b[1;33m=\u001b[0m\u001b[1;33m[\u001b[0m\u001b[1;33m]\u001b[0m\u001b[1;33m\u001b[0m\u001b[1;33m\u001b[0m\u001b[0m\n",
      "\u001b[1;31mFileNotFoundError\u001b[0m: [Errno 2] No such file or directory: 'D:\\\\Mis\\\\Destop\\\\ex2.txt'"
     ]
    }
   ],
   "source": [
    "#读取文件\n",
    "def load_data():\n",
    "    file=open(\"D:\\Mis\\Destop\\ex2.txt\",encoding='utf-8')    \n",
    "    p = file.readlines()\n",
    "    l=[]\n",
    "    for i in p:\n",
    "        for j in i:\n",
    "            print(j)\n",
    "    file.close()\n",
    "    return l\n",
    "load_data()"
   ]
  },
  {
   "cell_type": "code",
   "execution_count": 15,
   "metadata": {},
   "outputs": [
    {
     "name": "stdout",
     "output_type": "stream",
     "text": [
      "{'李维': 11, '李辉坤': 11, '冯锐': 11, '郝栋梁': 10, '林书杰': 9, '李伟杰': 11, '姬忠鲁': 11, '陈曦': 5, '梁永鑫': 1, '翁家丽': 11, '黎寅岳': 11, '马绪天': 10, '林胤达': 7, '董浩': 11, '宋泽': 5, '郭洪运': 8, '吉海鹏': 10, '黑勇航': 10, '何金哲': 7, '李之健': 8, '马迅': 10, '高鹏': 9, '李刚': 9, '陈昱鸿': 10, '胡烨': 10, '孙伟': 9, '黄忠谊': 10, '马明阳': 9, '方火建': 10, '冯阿龙': 8, '崔永智': 10, '黄健颖': 9, '贾堡钧': 10, '韩枭': 10, '胡波': 9, '陈威': 2, '马琦臻': 8, '李功明': 9, '陈亮': 5, '张少杰': 6, '陈依阳': 6, '李鹏飞': 7, '余宏杰': 5}\n"
     ]
    },
    {
     "data": {
      "text/plain": [
       "{'李维': 11,\n",
       " '李辉坤': 11,\n",
       " '冯锐': 11,\n",
       " '郝栋梁': 10,\n",
       " '林书杰': 9,\n",
       " '李伟杰': 11,\n",
       " '姬忠鲁': 11,\n",
       " '陈曦': 5,\n",
       " '梁永鑫': 1,\n",
       " '翁家丽': 11,\n",
       " '黎寅岳': 11,\n",
       " '马绪天': 10,\n",
       " '林胤达': 7,\n",
       " '董浩': 11,\n",
       " '宋泽': 5,\n",
       " '郭洪运': 8,\n",
       " '吉海鹏': 10,\n",
       " '黑勇航': 10,\n",
       " '何金哲': 7,\n",
       " '李之健': 8,\n",
       " '马迅': 10,\n",
       " '高鹏': 9,\n",
       " '李刚': 9,\n",
       " '陈昱鸿': 10,\n",
       " '胡烨': 10,\n",
       " '孙伟': 9,\n",
       " '黄忠谊': 10,\n",
       " '马明阳': 9,\n",
       " '方火建': 10,\n",
       " '冯阿龙': 8,\n",
       " '崔永智': 10,\n",
       " '黄健颖': 9,\n",
       " '贾堡钧': 10,\n",
       " '韩枭': 10,\n",
       " '胡波': 9,\n",
       " '陈威': 2,\n",
       " '马琦臻': 8,\n",
       " '李功明': 9,\n",
       " '陈亮': 5,\n",
       " '张少杰': 6,\n",
       " '陈依阳': 6,\n",
       " '李鹏飞': 7,\n",
       " '余宏杰': 5}"
      ]
     },
     "execution_count": 15,
     "metadata": {},
     "output_type": "execute_result"
    }
   ],
   "source": [
    "def load_data():\n",
    "    file=open(\"D:\\Mis\\project\\python\\dataMine\\data\\d.txt\",encoding='utf-8')    \n",
    "    p = file.readlines()\n",
    "    dic = {}\n",
    "    for i in p:\n",
    "        a = i.split(' ')\n",
    "        b = a[0]\n",
    "        if b in dic:\n",
    "            dic[b] += 1\n",
    "        else:\n",
    "            dic[b] = 1\n",
    "    print(dic)   \n",
    "    fw = open(\"D:\\Mis\\project\\python\\dataMine\\data\\qndxx.txt\",'w+')\n",
    "    fw.write(str(dic))      #把字典转化为str\n",
    "    fw.close()\n",
    "    file.close()\n",
    "    return dic\n",
    "load_data()"
   ]
  }
 ],
 "metadata": {
  "interpreter": {
   "hash": "ca0422c9975e5e7cf4e0d46dbc04b8de393be20f639917ec80eabe195a811ef3"
  },
  "kernelspec": {
   "display_name": "Python 3.7.3 64-bit ('base': conda)",
   "language": "python",
   "name": "python3"
  },
  "language_info": {
   "codemirror_mode": {
    "name": "ipython",
    "version": 3
   },
   "file_extension": ".py",
   "mimetype": "text/x-python",
   "name": "python",
   "nbconvert_exporter": "python",
   "pygments_lexer": "ipython3",
   "version": "3.7.3"
  },
  "orig_nbformat": 4
 },
 "nbformat": 4,
 "nbformat_minor": 2
}
