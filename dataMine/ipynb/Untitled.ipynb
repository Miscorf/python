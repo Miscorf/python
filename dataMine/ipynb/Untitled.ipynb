{
 "cells": [
  {
   "cell_type": "code",
   "execution_count": 219,
   "id": "f6a09847",
   "metadata": {},
   "outputs": [],
   "source": [
    "import pandas as pd\n",
    "import numpy as np\n",
    "import matplotlib.pyplot as plt\n",
    "import random"
   ]
  },
  {
   "cell_type": "code",
   "execution_count": 220,
   "id": "d5ff8b43",
   "metadata": {},
   "outputs": [
    {
     "name": "stdout",
     "output_type": "stream",
     "text": [
      "The shape of train_data (1298, 12)\n",
      "The shape of test_data (301, 12)\n"
     ]
    }
   ],
   "source": [
    "#导入数据集\n",
    "\n",
    "train_data = pd.read_csv(\"D:\\Mis\\project\\python\\dataMine\\data\\data_train.csv\")\n",
    "test_data = pd.read_csv(\"D:\\Mis\\project\\python\\dataMine\\data\\data_test.csv\")\n",
    "print(\"The shape of train_data\", train_data.shape)\n",
    "print(\"The shape of test_data\", test_data.shape)\n"
   ]
  },
  {
   "cell_type": "code",
   "execution_count": 221,
   "id": "1313391d",
   "metadata": {},
   "outputs": [
    {
     "data": {
      "text/html": [
       "<div>\n",
       "<style scoped>\n",
       "    .dataframe tbody tr th:only-of-type {\n",
       "        vertical-align: middle;\n",
       "    }\n",
       "\n",
       "    .dataframe tbody tr th {\n",
       "        vertical-align: top;\n",
       "    }\n",
       "\n",
       "    .dataframe thead th {\n",
       "        text-align: right;\n",
       "    }\n",
       "</style>\n",
       "<table border=\"1\" class=\"dataframe\">\n",
       "  <thead>\n",
       "    <tr style=\"text-align: right;\">\n",
       "      <th></th>\n",
       "      <th>fixed acidity</th>\n",
       "      <th>volatile acidity</th>\n",
       "      <th>citric acid</th>\n",
       "      <th>residual sugar</th>\n",
       "      <th>chlorides</th>\n",
       "      <th>free sulfur dioxide</th>\n",
       "      <th>total sulfur dioxide</th>\n",
       "      <th>density</th>\n",
       "      <th>pH</th>\n",
       "      <th>sulphates</th>\n",
       "      <th>alcohol</th>\n",
       "      <th>quality</th>\n",
       "    </tr>\n",
       "  </thead>\n",
       "  <tbody>\n",
       "    <tr>\n",
       "      <th>count</th>\n",
       "      <td>1298.000000</td>\n",
       "      <td>1298.000000</td>\n",
       "      <td>1298.000000</td>\n",
       "      <td>1298.000000</td>\n",
       "      <td>1298.000000</td>\n",
       "      <td>1298.000000</td>\n",
       "      <td>1298.000000</td>\n",
       "      <td>1298.000000</td>\n",
       "      <td>1298.000000</td>\n",
       "      <td>1298.000000</td>\n",
       "      <td>1298.000000</td>\n",
       "      <td>1298.000000</td>\n",
       "    </tr>\n",
       "    <tr>\n",
       "      <th>mean</th>\n",
       "      <td>8.563713</td>\n",
       "      <td>0.519503</td>\n",
       "      <td>0.287565</td>\n",
       "      <td>2.562635</td>\n",
       "      <td>0.088678</td>\n",
       "      <td>15.521572</td>\n",
       "      <td>46.835901</td>\n",
       "      <td>0.996954</td>\n",
       "      <td>3.299869</td>\n",
       "      <td>0.663544</td>\n",
       "      <td>10.406471</td>\n",
       "      <td>5.661787</td>\n",
       "    </tr>\n",
       "    <tr>\n",
       "      <th>std</th>\n",
       "      <td>1.765711</td>\n",
       "      <td>0.177694</td>\n",
       "      <td>0.196394</td>\n",
       "      <td>1.307516</td>\n",
       "      <td>0.047607</td>\n",
       "      <td>10.378344</td>\n",
       "      <td>33.548496</td>\n",
       "      <td>0.001897</td>\n",
       "      <td>0.154522</td>\n",
       "      <td>0.174552</td>\n",
       "      <td>1.095820</td>\n",
       "      <td>0.810744</td>\n",
       "    </tr>\n",
       "    <tr>\n",
       "      <th>min</th>\n",
       "      <td>4.600000</td>\n",
       "      <td>0.120000</td>\n",
       "      <td>0.000000</td>\n",
       "      <td>0.900000</td>\n",
       "      <td>0.012000</td>\n",
       "      <td>1.000000</td>\n",
       "      <td>6.000000</td>\n",
       "      <td>0.990070</td>\n",
       "      <td>2.740000</td>\n",
       "      <td>0.330000</td>\n",
       "      <td>8.400000</td>\n",
       "      <td>3.000000</td>\n",
       "    </tr>\n",
       "    <tr>\n",
       "      <th>25%</th>\n",
       "      <td>7.300000</td>\n",
       "      <td>0.390000</td>\n",
       "      <td>0.110000</td>\n",
       "      <td>1.900000</td>\n",
       "      <td>0.071000</td>\n",
       "      <td>7.000000</td>\n",
       "      <td>21.250000</td>\n",
       "      <td>0.995860</td>\n",
       "      <td>3.200000</td>\n",
       "      <td>0.560000</td>\n",
       "      <td>9.500000</td>\n",
       "      <td>5.000000</td>\n",
       "    </tr>\n",
       "    <tr>\n",
       "      <th>50%</th>\n",
       "      <td>8.200000</td>\n",
       "      <td>0.500000</td>\n",
       "      <td>0.280000</td>\n",
       "      <td>2.200000</td>\n",
       "      <td>0.080000</td>\n",
       "      <td>13.000000</td>\n",
       "      <td>38.000000</td>\n",
       "      <td>0.996940</td>\n",
       "      <td>3.300000</td>\n",
       "      <td>0.620000</td>\n",
       "      <td>10.100000</td>\n",
       "      <td>6.000000</td>\n",
       "    </tr>\n",
       "    <tr>\n",
       "      <th>75%</th>\n",
       "      <td>9.500000</td>\n",
       "      <td>0.630000</td>\n",
       "      <td>0.450000</td>\n",
       "      <td>2.600000</td>\n",
       "      <td>0.092000</td>\n",
       "      <td>21.000000</td>\n",
       "      <td>63.000000</td>\n",
       "      <td>0.998010</td>\n",
       "      <td>3.390000</td>\n",
       "      <td>0.730000</td>\n",
       "      <td>11.100000</td>\n",
       "      <td>6.000000</td>\n",
       "    </tr>\n",
       "    <tr>\n",
       "      <th>max</th>\n",
       "      <td>15.900000</td>\n",
       "      <td>1.330000</td>\n",
       "      <td>1.000000</td>\n",
       "      <td>15.500000</td>\n",
       "      <td>0.611000</td>\n",
       "      <td>72.000000</td>\n",
       "      <td>289.000000</td>\n",
       "      <td>1.003200</td>\n",
       "      <td>3.900000</td>\n",
       "      <td>2.000000</td>\n",
       "      <td>14.900000</td>\n",
       "      <td>8.000000</td>\n",
       "    </tr>\n",
       "  </tbody>\n",
       "</table>\n",
       "</div>"
      ],
      "text/plain": [
       "       fixed acidity  volatile acidity  citric acid  residual sugar  \\\n",
       "count    1298.000000       1298.000000  1298.000000     1298.000000   \n",
       "mean        8.563713          0.519503     0.287565        2.562635   \n",
       "std         1.765711          0.177694     0.196394        1.307516   \n",
       "min         4.600000          0.120000     0.000000        0.900000   \n",
       "25%         7.300000          0.390000     0.110000        1.900000   \n",
       "50%         8.200000          0.500000     0.280000        2.200000   \n",
       "75%         9.500000          0.630000     0.450000        2.600000   \n",
       "max        15.900000          1.330000     1.000000       15.500000   \n",
       "\n",
       "         chlorides  free sulfur dioxide  total sulfur dioxide      density  \\\n",
       "count  1298.000000          1298.000000           1298.000000  1298.000000   \n",
       "mean      0.088678            15.521572             46.835901     0.996954   \n",
       "std       0.047607            10.378344             33.548496     0.001897   \n",
       "min       0.012000             1.000000              6.000000     0.990070   \n",
       "25%       0.071000             7.000000             21.250000     0.995860   \n",
       "50%       0.080000            13.000000             38.000000     0.996940   \n",
       "75%       0.092000            21.000000             63.000000     0.998010   \n",
       "max       0.611000            72.000000            289.000000     1.003200   \n",
       "\n",
       "                pH    sulphates      alcohol      quality  \n",
       "count  1298.000000  1298.000000  1298.000000  1298.000000  \n",
       "mean      3.299869     0.663544    10.406471     5.661787  \n",
       "std       0.154522     0.174552     1.095820     0.810744  \n",
       "min       2.740000     0.330000     8.400000     3.000000  \n",
       "25%       3.200000     0.560000     9.500000     5.000000  \n",
       "50%       3.300000     0.620000    10.100000     6.000000  \n",
       "75%       3.390000     0.730000    11.100000     6.000000  \n",
       "max       3.900000     2.000000    14.900000     8.000000  "
      ]
     },
     "execution_count": 221,
     "metadata": {},
     "output_type": "execute_result"
    }
   ],
   "source": [
    "train_data.describe()"
   ]
  },
  {
   "cell_type": "code",
   "execution_count": 222,
   "id": "37d115a0",
   "metadata": {},
   "outputs": [
    {
     "data": {
      "text/html": [
       "<div>\n",
       "<style scoped>\n",
       "    .dataframe tbody tr th:only-of-type {\n",
       "        vertical-align: middle;\n",
       "    }\n",
       "\n",
       "    .dataframe tbody tr th {\n",
       "        vertical-align: top;\n",
       "    }\n",
       "\n",
       "    .dataframe thead th {\n",
       "        text-align: right;\n",
       "    }\n",
       "</style>\n",
       "<table border=\"1\" class=\"dataframe\">\n",
       "  <thead>\n",
       "    <tr style=\"text-align: right;\">\n",
       "      <th></th>\n",
       "      <th>fixed acidity</th>\n",
       "      <th>volatile acidity</th>\n",
       "      <th>citric acid</th>\n",
       "      <th>residual sugar</th>\n",
       "      <th>chlorides</th>\n",
       "      <th>free sulfur dioxide</th>\n",
       "      <th>total sulfur dioxide</th>\n",
       "      <th>density</th>\n",
       "      <th>pH</th>\n",
       "      <th>sulphates</th>\n",
       "      <th>alcohol</th>\n",
       "      <th>quality</th>\n",
       "    </tr>\n",
       "  </thead>\n",
       "  <tbody>\n",
       "    <tr>\n",
       "      <th>0</th>\n",
       "      <td>7.4</td>\n",
       "      <td>0.70</td>\n",
       "      <td>0.00</td>\n",
       "      <td>1.9</td>\n",
       "      <td>0.076</td>\n",
       "      <td>11.0</td>\n",
       "      <td>34.0</td>\n",
       "      <td>0.9978</td>\n",
       "      <td>3.51</td>\n",
       "      <td>0.56</td>\n",
       "      <td>9.4</td>\n",
       "      <td>5</td>\n",
       "    </tr>\n",
       "    <tr>\n",
       "      <th>1</th>\n",
       "      <td>7.8</td>\n",
       "      <td>0.88</td>\n",
       "      <td>0.00</td>\n",
       "      <td>2.6</td>\n",
       "      <td>0.098</td>\n",
       "      <td>25.0</td>\n",
       "      <td>67.0</td>\n",
       "      <td>0.9968</td>\n",
       "      <td>3.20</td>\n",
       "      <td>0.68</td>\n",
       "      <td>9.8</td>\n",
       "      <td>5</td>\n",
       "    </tr>\n",
       "    <tr>\n",
       "      <th>2</th>\n",
       "      <td>7.8</td>\n",
       "      <td>0.76</td>\n",
       "      <td>0.04</td>\n",
       "      <td>2.3</td>\n",
       "      <td>0.092</td>\n",
       "      <td>15.0</td>\n",
       "      <td>54.0</td>\n",
       "      <td>0.9970</td>\n",
       "      <td>3.26</td>\n",
       "      <td>0.65</td>\n",
       "      <td>9.8</td>\n",
       "      <td>5</td>\n",
       "    </tr>\n",
       "    <tr>\n",
       "      <th>3</th>\n",
       "      <td>11.2</td>\n",
       "      <td>0.28</td>\n",
       "      <td>0.56</td>\n",
       "      <td>1.9</td>\n",
       "      <td>0.075</td>\n",
       "      <td>17.0</td>\n",
       "      <td>60.0</td>\n",
       "      <td>0.9980</td>\n",
       "      <td>3.16</td>\n",
       "      <td>0.58</td>\n",
       "      <td>9.8</td>\n",
       "      <td>6</td>\n",
       "    </tr>\n",
       "    <tr>\n",
       "      <th>4</th>\n",
       "      <td>7.4</td>\n",
       "      <td>0.70</td>\n",
       "      <td>0.00</td>\n",
       "      <td>1.9</td>\n",
       "      <td>0.076</td>\n",
       "      <td>11.0</td>\n",
       "      <td>34.0</td>\n",
       "      <td>0.9978</td>\n",
       "      <td>3.51</td>\n",
       "      <td>0.56</td>\n",
       "      <td>9.4</td>\n",
       "      <td>5</td>\n",
       "    </tr>\n",
       "  </tbody>\n",
       "</table>\n",
       "</div>"
      ],
      "text/plain": [
       "   fixed acidity  volatile acidity  citric acid  residual sugar  chlorides  \\\n",
       "0            7.4              0.70         0.00             1.9      0.076   \n",
       "1            7.8              0.88         0.00             2.6      0.098   \n",
       "2            7.8              0.76         0.04             2.3      0.092   \n",
       "3           11.2              0.28         0.56             1.9      0.075   \n",
       "4            7.4              0.70         0.00             1.9      0.076   \n",
       "\n",
       "   free sulfur dioxide  total sulfur dioxide  density    pH  sulphates  \\\n",
       "0                 11.0                  34.0   0.9978  3.51       0.56   \n",
       "1                 25.0                  67.0   0.9968  3.20       0.68   \n",
       "2                 15.0                  54.0   0.9970  3.26       0.65   \n",
       "3                 17.0                  60.0   0.9980  3.16       0.58   \n",
       "4                 11.0                  34.0   0.9978  3.51       0.56   \n",
       "\n",
       "   alcohol  quality  \n",
       "0      9.4        5  \n",
       "1      9.8        5  \n",
       "2      9.8        5  \n",
       "3      9.8        6  \n",
       "4      9.4        5  "
      ]
     },
     "execution_count": 222,
     "metadata": {},
     "output_type": "execute_result"
    }
   ],
   "source": [
    "train_data.head()"
   ]
  },
  {
   "cell_type": "code",
   "execution_count": 223,
   "id": "9348aee4",
   "metadata": {},
   "outputs": [],
   "source": [
    "train_data=np.array(train_data)\n",
    "test_data=np.array(test_data)"
   ]
  },
  {
   "cell_type": "code",
   "execution_count": 224,
   "id": "bcb403bc",
   "metadata": {},
   "outputs": [],
   "source": [
    "def getData(dataSet):\n",
    "    m, n = np.shape(dataSet)\n",
    "    trainData = np.ones((m, n-1))\n",
    "    trainData[:,:-1] = dataSet[:,:-2]\n",
    "    trainLabel = dataSet[:,-1]\n",
    "    return trainData, trainLabel"
   ]
  },
  {
   "cell_type": "code",
   "execution_count": 225,
   "id": "c969bec9",
   "metadata": {},
   "outputs": [],
   "source": [
    "def normalize(X):\n",
    "    m, n = X.shape\n",
    "    # 归一化每一个特征\n",
    "    for j in range(n):\n",
    "        features = X[:,j]\n",
    "        minVal = features.min(axis=0)\n",
    "        maxVal = features.max(axis=0)\n",
    "        diff = maxVal - minVal\n",
    "        if diff != 0:\n",
    "            X[:,j] = (features-minVal)/diff\n",
    "        else:\n",
    "            X[:,j] = 0\n",
    "    return X"
   ]
  },
  {
   "cell_type": "code",
   "execution_count": 226,
   "id": "1efb4fe6",
   "metadata": {},
   "outputs": [],
   "source": [
    "def batchGradientDescent(x, y, theta, alpha, m, maxIterations):\n",
    "    \n",
    "    xTrains = normalize(x).transpose()\n",
    "    ylabels=(y-min(y))/(max(y)-min(y))\n",
    "    for i in range(0, maxIterations):\n",
    "        hypothesis = np.dot(x, theta)\n",
    "        loss = hypothesis - ylabels\n",
    "        gradient = np.dot(xTrains, loss) / m\n",
    "        theta = theta - alpha * gradient\n",
    "    return theta"
   ]
  },
  {
   "cell_type": "code",
   "execution_count": 227,
   "id": "a4c2adae",
   "metadata": {},
   "outputs": [],
   "source": [
    "trainFeature, trainLabel = getData(train_data)\n",
    "m, n = np.shape(trainFeature)\n",
    "theta = np.ones(n)\n",
    "alpha = 0.05"
   ]
  },
  {
   "cell_type": "code",
   "execution_count": 249,
   "id": "9cb684a6",
   "metadata": {},
   "outputs": [
    {
     "data": {
      "text/plain": [
       "array([0., 0., 0., ..., 0., 0., 1.])"
      ]
     },
     "execution_count": 249,
     "metadata": {},
     "output_type": "execute_result"
    }
   ],
   "source": []
  },
  {
   "cell_type": "code",
   "execution_count": 228,
   "id": "d02342d0",
   "metadata": {},
   "outputs": [],
   "source": [
    "theta = batchGradientDescent(trainFeature, trainLabel, theta, alpha, m, 1000)"
   ]
  },
  {
   "cell_type": "code",
   "execution_count": 248,
   "id": "84fb944e",
   "metadata": {},
   "outputs": [
    {
     "data": {
      "text/plain": [
       "array([ 0.35137134,  0.13231828,  0.24698665,  0.54279238,  0.45872649,\n",
       "        0.09733225,  0.1229315 , -0.30957669,  0.40460971,  0.45835376,\n",
       "        1.        ])"
      ]
     },
     "execution_count": 248,
     "metadata": {},
     "output_type": "execute_result"
    }
   ],
   "source": [
    "theta"
   ]
  },
  {
   "cell_type": "code",
   "execution_count": 247,
   "id": "ad63c774",
   "metadata": {},
   "outputs": [],
   "source": [
    "ylabels=(trainLabel-min(trainLabel))/(max(trainLabel)-min(trainLabel))"
   ]
  },
  {
   "cell_type": "code",
   "execution_count": 231,
   "id": "77e63430",
   "metadata": {},
   "outputs": [
    {
     "data": {
      "text/plain": [
       "array([0.4, 0.4, 0.4, ..., 0.4, 0.4, 0.6])"
      ]
     },
     "execution_count": 231,
     "metadata": {},
     "output_type": "execute_result"
    }
   ],
   "source": [
    "ylabels"
   ]
  },
  {
   "cell_type": "code",
   "execution_count": 232,
   "id": "c1dc5ff7",
   "metadata": {},
   "outputs": [],
   "source": [
    "def predict(x, theta):\n",
    "    m, n = np.shape(x)\n",
    "    xTest = np.ones((m, n))\n",
    "    xTest[:, :] = x\n",
    "    yPre = np.dot(xTest, theta)\n",
    "    return yPre"
   ]
  },
  {
   "cell_type": "code",
   "execution_count": 233,
   "id": "f6e6bd2e",
   "metadata": {},
   "outputs": [
    {
     "data": {
      "text/plain": [
       "array([0.41199963, 0.46890561, 0.43853724, ..., 0.46946833, 0.46946833,\n",
       "       0.48899141])"
      ]
     },
     "execution_count": 233,
     "metadata": {},
     "output_type": "execute_result"
    }
   ],
   "source": [
    "y_pre=predict(trainFeature, theta)\n",
    "y_pre"
   ]
  },
  {
   "cell_type": "code",
   "execution_count": 234,
   "id": "837a1c6f",
   "metadata": {},
   "outputs": [
    {
     "data": {
      "text/plain": [
       "230.5179685630983"
      ]
     },
     "execution_count": 234,
     "metadata": {},
     "output_type": "execute_result"
    }
   ],
   "source": [
    "a=sum(y_pre-ylabels)**2\n",
    "a"
   ]
  },
  {
   "cell_type": "code",
   "execution_count": 235,
   "id": "442865a9",
   "metadata": {},
   "outputs": [
    {
     "name": "stdout",
     "output_type": "stream",
     "text": [
      "8.0\n",
      "3.0\n"
     ]
    }
   ],
   "source": [
    "print(max(trainLabel))\n",
    "print(min(trainLabel))"
   ]
  },
  {
   "cell_type": "code",
   "execution_count": 236,
   "id": "109a8393",
   "metadata": {},
   "outputs": [
    {
     "data": {
      "text/plain": [
       "array([0., 0., 0., ..., 0., 0., 1.])"
      ]
     },
     "execution_count": 236,
     "metadata": {},
     "output_type": "execute_result"
    }
   ],
   "source": [
    "for i in  range(0,1298):\n",
    "    if trainLabel[i]>=6:\n",
    "        trainLabel[i]=1\n",
    "    else:\n",
    "        trainLabel[i]=0\n",
    "trainLabel"
   ]
  },
  {
   "cell_type": "code",
   "execution_count": 237,
   "id": "f2be4ec8",
   "metadata": {},
   "outputs": [],
   "source": [
    "y_pre=y_pre*5+3"
   ]
  },
  {
   "cell_type": "code",
   "execution_count": 238,
   "id": "ad5634cd",
   "metadata": {},
   "outputs": [
    {
     "data": {
      "text/plain": [
       "array([0., 0., 0., ..., 0., 0., 0.])"
      ]
     },
     "execution_count": 238,
     "metadata": {},
     "output_type": "execute_result"
    }
   ],
   "source": [
    "for i in  range(0,1298):\n",
    "    if y_pre[i]>=6:\n",
    "        y_pre[i]=1\n",
    "    else:\n",
    "        y_pre[i]=0\n",
    "y_pre"
   ]
  },
  {
   "cell_type": "code",
   "execution_count": 239,
   "id": "788ed4d4",
   "metadata": {},
   "outputs": [
    {
     "data": {
      "text/plain": [
       "659"
      ]
     },
     "execution_count": 239,
     "metadata": {},
     "output_type": "execute_result"
    }
   ],
   "source": [
    "count=0\n",
    "for i in  range(0,1298):\n",
    "    if y_pre[i]==trainLabel[i]:\n",
    "        count=count+1\n",
    "count"
   ]
  },
  {
   "cell_type": "code",
   "execution_count": 240,
   "id": "0af2d086",
   "metadata": {},
   "outputs": [],
   "source": [
    "#开始测试\n",
    "testFeature, testLabel = getData(test_data)\n"
   ]
  },
  {
   "cell_type": "code",
   "execution_count": 241,
   "id": "64cd7d20",
   "metadata": {},
   "outputs": [
    {
     "data": {
      "text/plain": [
       "array([0.42944236, 0.58715416, 0.54784055, 0.67813313, 0.66262138,\n",
       "       0.70191596, 0.46747663, 0.54254181, 0.71808748, 0.52036844,\n",
       "       0.71808748, 0.46173146, 0.54254181, 0.52792561, 0.56773607,\n",
       "       0.5364434 , 0.5457304 , 0.56390764, 0.62219269, 0.71271245,\n",
       "       0.56390764, 1.37850812, 0.72143681, 0.6012153 , 0.56875866,\n",
       "       0.7168676 , 0.52054518, 0.52054518, 0.52054518, 0.52054518,\n",
       "       0.39489548, 0.55771664, 0.55771664, 0.62639293, 0.31498608,\n",
       "       0.50289738, 0.51192532, 0.53001568, 0.29003916, 0.29003916,\n",
       "       0.29003916, 0.44111994, 0.44111994, 0.44111994, 0.43251231,\n",
       "       0.44111994, 0.61325374, 0.46734322, 0.40898044, 0.32095474,\n",
       "       0.32095474, 0.48208254, 0.65029041, 0.46290767, 0.42247017,\n",
       "       0.42247017, 0.41661678, 0.38915916, 0.38350668, 0.65070527,\n",
       "       0.75925356, 0.66217384, 0.60959521, 0.56611667, 0.66217384,\n",
       "       0.52469015, 0.49279292, 0.4688992 , 0.41900048, 0.80176811,\n",
       "       0.55633517, 0.2857118 , 1.26625703, 0.92512375, 1.26625703,\n",
       "       0.62998272, 0.62174958, 0.51944221, 0.44409818, 0.64395068,\n",
       "       0.39993402, 0.50628424, 0.50628424, 0.39407064, 0.56854905,\n",
       "       0.56854905, 0.47931997, 0.55150575, 0.45114906, 0.45114906,\n",
       "       0.68780225, 0.42268165, 0.52938762, 0.57449862, 0.31566671,\n",
       "       0.50987212, 0.47571963, 0.49473497, 0.49727449, 0.54123194,\n",
       "       0.53385964, 0.52446855, 0.60254291, 0.60254291, 0.64731818,\n",
       "       0.65207584, 0.60914901, 0.66184715, 0.72967923, 0.66969898,\n",
       "       0.79058841, 0.66969898, 0.45408986, 0.63096735, 0.72967923,\n",
       "       0.76426665, 0.6684639 , 0.50999942, 0.6684639 , 0.64778978,\n",
       "       0.31724997, 0.57310959, 0.31724997, 0.49522735, 0.6302008 ,\n",
       "       0.61571816, 0.52250825, 0.52250825, 0.58923827, 0.52986532,\n",
       "       0.50221369, 0.75795589, 0.53605493, 0.51904547, 0.47282626,\n",
       "       0.49279885, 1.32832445, 1.32832445, 0.72678541, 0.6899697 ,\n",
       "       0.3096035 , 0.57702717, 0.55437391, 0.60300777, 0.49722745,\n",
       "       0.46738679, 0.57702717, 0.60300777, 0.49722745, 0.50404472,\n",
       "       0.54506438, 0.55952489, 0.55437391, 0.66784554, 0.5859085 ,\n",
       "       0.60071187, 0.74252789, 0.46898004, 0.46846877, 0.60071187,\n",
       "       0.57244401, 0.60846123, 0.48150835, 0.434503  , 0.45049089,\n",
       "       0.4355496 , 0.53256245, 0.53256245, 0.54098466, 0.52287904,\n",
       "       0.54098466, 0.4412809 , 0.37639335, 0.54127321, 0.75882551,\n",
       "       0.45685932, 1.27201804, 0.70138543, 1.27201804, 0.70138543,\n",
       "       0.51799059, 0.70344009, 0.47169475, 0.70344009, 0.56983023,\n",
       "       0.53123584, 0.49955249, 0.45345178, 0.49913571, 0.5340815 ,\n",
       "       0.45851498, 0.50091638, 0.5426777 , 0.45851498, 0.45589602,\n",
       "       0.62467618, 0.47250808, 0.54798666, 0.62467618, 0.48116831,\n",
       "       0.48289939, 0.48116831, 0.39547615, 0.60743664, 0.49249431,\n",
       "       0.60068725, 0.61100491, 0.48619656, 0.51519071, 0.61100491,\n",
       "       0.6065513 , 0.59085983, 0.55595054, 0.49013528, 0.49186086,\n",
       "       0.54356876, 0.68237028, 0.68237028, 0.67128041, 0.58373937,\n",
       "       0.60831218, 0.50442387, 0.58373937, 0.40177597, 0.67128041,\n",
       "       0.55100024, 0.56597337, 0.450053  , 0.45549747, 0.4584521 ,\n",
       "       0.65952303, 0.5409023 , 0.50306377, 0.56591932, 0.4456841 ,\n",
       "       0.61400543, 0.53368429, 0.4785565 , 0.5724514 , 0.4565078 ,\n",
       "       0.55098357, 0.652488  , 0.5644735 , 0.59092029, 0.45081087,\n",
       "       0.65332198, 0.64807527, 0.5229751 , 0.44288482, 0.47252769,\n",
       "       0.69479967, 0.56666469, 0.42154711, 0.42328351, 0.6386108 ,\n",
       "       0.45192828, 0.49195794, 0.54258254, 0.46552863, 0.49195794,\n",
       "       0.94450701, 0.57891872, 0.57891872, 0.57891872, 0.44076608,\n",
       "       0.44076608, 0.44076608, 0.58075394, 0.66879256, 0.44076608,\n",
       "       0.46329468, 0.48458497, 0.98194231, 0.45766439, 0.59222856,\n",
       "       0.62103374, 1.03291018, 0.5696455 , 0.7163874 , 0.61969545,\n",
       "       0.57897852, 0.50849451, 0.56219682, 0.50849451, 0.50727457,\n",
       "       0.56253279, 0.64602921, 0.72186487, 0.76055299, 0.51644494,\n",
       "       0.75857616, 0.67233778, 0.61979111, 0.53690048, 0.57125832,\n",
       "       0.57689923, 0.52379056, 0.60557991, 0.57125832, 0.59683517,\n",
       "       0.62087289])"
      ]
     },
     "execution_count": 241,
     "metadata": {},
     "output_type": "execute_result"
    }
   ],
   "source": [
    "y_pre=predict(normalize(testFeature), theta)\n",
    "y_pre"
   ]
  },
  {
   "cell_type": "code",
   "execution_count": 242,
   "id": "ff371d06",
   "metadata": {},
   "outputs": [
    {
     "data": {
      "text/plain": [
       "367.0913397456511"
      ]
     },
     "execution_count": 242,
     "metadata": {},
     "output_type": "execute_result"
    }
   ],
   "source": [
    "ylabels=(testLabel-min(testLabel))/(max(testLabel)-min(testLabel))\n",
    "a=sum(y_pre-ylabels)**2\n",
    "a"
   ]
  },
  {
   "cell_type": "code",
   "execution_count": 243,
   "id": "0d072167",
   "metadata": {},
   "outputs": [
    {
     "data": {
      "text/plain": [
       "array([0., 0., 0., ..., 0., 0., 1.])"
      ]
     },
     "execution_count": 243,
     "metadata": {},
     "output_type": "execute_result"
    }
   ],
   "source": [
    "for i in  range(0,301):\n",
    "    if testLabel[i]>=6:\n",
    "        testLabel[i]=1\n",
    "    else:\n",
    "        testLabel[i]=0\n",
    "trainLabel"
   ]
  },
  {
   "cell_type": "code",
   "execution_count": 244,
   "id": "e74af859",
   "metadata": {},
   "outputs": [],
   "source": [
    "y_pre=y_pre*5+3"
   ]
  },
  {
   "cell_type": "code",
   "execution_count": 245,
   "id": "76e68519",
   "metadata": {},
   "outputs": [
    {
     "data": {
      "text/plain": [
       "array([0., 0., 0., 1., 1., 1., 0., 0., 1., 0., 1., 0., 0., 0., 0., 0., 0.,\n",
       "       0., 1., 1., 0., 1., 1., 1., 0., 1., 0., 0., 0., 0., 0., 0., 0., 1.,\n",
       "       0., 0., 0., 0., 0., 0., 0., 0., 0., 0., 0., 0., 1., 0., 0., 0., 0.,\n",
       "       0., 1., 0., 0., 0., 0., 0., 0., 1., 1., 1., 1., 0., 1., 0., 0., 0.,\n",
       "       0., 1., 0., 0., 1., 1., 1., 1., 1., 0., 0., 1., 0., 0., 0., 0., 0.,\n",
       "       0., 0., 0., 0., 0., 1., 0., 0., 0., 0., 0., 0., 0., 0., 0., 0., 0.,\n",
       "       1., 1., 1., 1., 1., 1., 1., 1., 1., 1., 0., 1., 1., 1., 1., 0., 1.,\n",
       "       1., 0., 0., 0., 0., 1., 1., 0., 0., 0., 0., 0., 1., 0., 0., 0., 0.,\n",
       "       1., 1., 1., 1., 0., 0., 0., 1., 0., 0., 0., 1., 0., 0., 0., 0., 0.,\n",
       "       1., 0., 1., 1., 0., 0., 1., 0., 1., 0., 0., 0., 0., 0., 0., 0., 0.,\n",
       "       0., 0., 0., 0., 1., 0., 1., 1., 1., 1., 0., 1., 0., 1., 0., 0., 0.,\n",
       "       0., 0., 0., 0., 0., 0., 0., 0., 1., 0., 0., 1., 0., 0., 0., 0., 1.,\n",
       "       0., 1., 1., 0., 0., 1., 1., 0., 0., 0., 0., 0., 1., 1., 1., 0., 1.,\n",
       "       0., 0., 0., 1., 0., 0., 0., 0., 0., 1., 0., 0., 0., 0., 1., 0., 0.,\n",
       "       0., 0., 0., 1., 0., 0., 0., 1., 1., 0., 0., 0., 1., 0., 0., 0., 1.,\n",
       "       0., 0., 0., 0., 0., 1., 0., 0., 0., 0., 0., 0., 0., 1., 0., 0., 0.,\n",
       "       1., 0., 0., 1., 1., 0., 1., 1., 0., 0., 0., 0., 0., 0., 1., 1., 1.,\n",
       "       0., 1., 1., 1., 0., 0., 0., 0., 1., 0., 0., 1.])"
      ]
     },
     "execution_count": 245,
     "metadata": {},
     "output_type": "execute_result"
    }
   ],
   "source": [
    "for i in  range(0,301):\n",
    "    if y_pre[i]>=6:\n",
    "        y_pre[i]=1\n",
    "    else:\n",
    "        y_pre[i]=0\n",
    "y_pre"
   ]
  },
  {
   "cell_type": "code",
   "execution_count": 246,
   "id": "8c738345",
   "metadata": {},
   "outputs": [
    {
     "data": {
      "text/plain": [
       "0.5647840531561462"
      ]
     },
     "execution_count": 246,
     "metadata": {},
     "output_type": "execute_result"
    }
   ],
   "source": [
    "count=0\n",
    "for i in  range(0,301):\n",
    "    if y_pre[i]==trainLabel[i]:\n",
    "        count=count+1\n",
    "count/301"
   ]
  }
 ],
 "metadata": {
  "kernelspec": {
   "display_name": "Python 3",
   "language": "python",
   "name": "python3"
  },
  "language_info": {
   "codemirror_mode": {
    "name": "ipython",
    "version": 3
   },
   "file_extension": ".py",
   "mimetype": "text/x-python",
   "name": "python",
   "nbconvert_exporter": "python",
   "pygments_lexer": "ipython3",
   "version": "3.7.3"
  }
 },
 "nbformat": 4,
 "nbformat_minor": 5
}
