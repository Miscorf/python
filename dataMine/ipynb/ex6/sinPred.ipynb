{
 "cells": [
  {
   "cell_type": "code",
   "execution_count": 1,
   "metadata": {
    "collapsed": true
   },
   "outputs": [],
   "source": [
    "import numpy as np\n",
    "import torch\n",
    "import torch.nn as nn\n",
    "from torch.utils.data import TensorDataset, DataLoader\n",
    "import matplotlib.pyplot as plt\n",
    "\n",
    "%matplotlib inline"
   ]
  },
  {
   "cell_type": "code",
   "execution_count": 2,
   "metadata": {
    "collapsed": false,
    "pycharm": {
     "name": "#%%\n"
    }
   },
   "outputs": [],
   "source": [
    "data = []\n",
    "start = 0\n",
    "for i in range(200):\n",
    "    x = [np.sin(x / 10) for x in range(start, start + 11)]\n",
    "    data.append(x)\n",
    "    start = start + 1\n",
    "    # print(x)\n",
    "\n",
    "data = np.array(data)\n",
    "data = torch.from_numpy(data)\n",
    "\n",
    "target = data[:, - 1:].type(torch.FloatTensor)\n",
    "data = data[:, :-1].type(torch.FloatTensor)\n",
    "\n",
    "train_x = data[:150]\n",
    "train_y = target[:150]\n",
    "test_x = data[150:]\n",
    "test_y = target[150:]\n",
    "\n",
    "train_dataset = TensorDataset(train_x, train_y)\n",
    "test_dataset = TensorDataset(test_x, test_y)\n",
    "train_loader = DataLoader(dataset=train_dataset, batch_size=5, shuffle=True)\n",
    "test_loader = DataLoader(dataset=test_dataset, batch_size=5, shuffle=False)"
   ]
  },
  {
   "cell_type": "code",
   "execution_count": 3,
   "metadata": {
    "collapsed": false,
    "pycharm": {
     "name": "#%%\n"
    }
   },
   "outputs": [],
   "source": [
    "\"\"\"构建网络\"\"\"\n",
    "class model(nn.Module):\n",
    "    def __init__(self):\n",
    "        super().__init__()\n",
    "        self.rnn = nn.RNN(1, 10, batch_first=True)\n",
    "        self.lstm = nn.LSTM(1, 10, batch_first=True)\n",
    "        self.gru = nn.GRU(1, 10, batch_first=True)\n",
    "        self.fc = nn.Linear(10, 1)\n",
    "\n",
    "    def forward(self, x, hidden):\n",
    "        # output, hidden = self.rnn(x, hidden)\n",
    "        # output, hidden = self.lstm(x, hidden)\n",
    "        output, hidden = self.gru(x, hidden)\n",
    "        output = output[:, -1, :]\n",
    "        output = self.fc(output)\n",
    "        return output\n",
    "\n",
    "net = model()\n",
    "loss_fn = nn.MSELoss()\n",
    "opt = torch.optim.Adam(net.parameters(), lr=0.001)"
   ]
  },
  {
   "cell_type": "code",
   "execution_count": 4,
   "metadata": {
    "collapsed": false,
    "pycharm": {
     "name": "#%%\n"
    }
   },
   "outputs": [
    {
     "name": "stdout",
     "output_type": "stream",
     "text": [
      "tensor(0.4024)\n",
      "tensor(0.0002)\n",
      "tensor(1.3159e-05)\n",
      "tensor(2.0973e-05)\n",
      "tensor(1.6352e-06)\n",
      "tensor(1.1048e-05)\n",
      "tensor(1.4288e-05)\n",
      "tensor(2.6010e-06)\n",
      "tensor(5.0482e-06)\n",
      "tensor(4.6458e-06)\n"
     ]
    }
   ],
   "source": [
    "\"\"\"\n",
    "训练\n",
    "初始化h0,c0\n",
    "\"\"\"\n",
    "h0 = torch.zeros(1, 5, 10)\n",
    "c0 = torch.zeros(1, 5, 10)\n",
    "\n",
    "for epoch in range(500):\n",
    "    for i, data in enumerate(train_loader):\n",
    "        x, y = data\n",
    "        x = x.view(-1, 10, 1)\n",
    "\n",
    "        pred = net(x, h0)\n",
    "        loss = loss_fn(pred, y)\n",
    "\n",
    "        opt.zero_grad()\n",
    "        loss.backward()\n",
    "        opt.step()\n",
    "\n",
    "    if epoch % 50 == 0:\n",
    "        print(loss.data)"
   ]
  },
  {
   "cell_type": "code",
   "execution_count": 5,
   "metadata": {
    "collapsed": false,
    "pycharm": {
     "name": "#%%\n"
    }
   },
   "outputs": [
    {
     "name": "stdout",
     "output_type": "stream",
     "text": [
      "tensor([[-0.2879, -0.3821, -0.4724, -0.5581, -0.6381]])\n",
      "tensor([[-0.2867, -0.3808, -0.4713, -0.5572, -0.6375]]) \n",
      "\n",
      "tensor([[-0.7118, -0.7784, -0.8371, -0.8876, -0.9291]])\n",
      "tensor([[-0.7112, -0.7778, -0.8363, -0.8864, -0.9275]]) \n",
      "\n",
      "tensor([[-0.9614, -0.9841, -0.9969, -0.9998, -0.9927]])\n",
      "tensor([[-0.9593, -0.9816, -0.9942, -0.9970, -0.9901]]) \n",
      "\n",
      "tensor([[-0.9756, -0.9488, -0.9126, -0.8672, -0.8132]])\n",
      "tensor([[-0.9735, -0.9471, -0.9113, -0.8662, -0.8122]]) \n",
      "\n",
      "tensor([[-0.7510, -0.6813, -0.6048, -0.5223, -0.4346]])\n",
      "tensor([[-0.7499, -0.6799, -0.6030, -0.5202, -0.4323]]) \n",
      "\n",
      "tensor([[-0.3425, -0.2470, -0.1490, -0.0495,  0.0504]])\n",
      "tensor([[-0.3404, -0.2452, -0.1477, -0.0488,  0.0507]]) \n",
      "\n",
      "tensor([[0.1499, 0.2478, 0.3433, 0.4354, 0.5231]])\n",
      "tensor([[0.1498, 0.2476, 0.3429, 0.4349, 0.5226]]) \n",
      "\n",
      "tensor([[0.6055, 0.6820, 0.7516, 0.8137, 0.8676]])\n",
      "tensor([[0.6050, 0.6814, 0.7508, 0.8127, 0.8664]]) \n",
      "\n",
      "tensor([[0.9129, 0.9491, 0.9758, 0.9928, 0.9998]])\n",
      "tensor([[0.9113, 0.9471, 0.9735, 0.9901, 0.9970]]) \n",
      "\n",
      "tensor([[0.9968, 0.9839, 0.9612, 0.9288, 0.8872]])\n",
      "tensor([[0.9941, 0.9813, 0.9589, 0.9269, 0.8856]]) \n",
      "\n"
     ]
    },
    {
     "data": {
      "image/png": "[encoded data removed]",
      "text/plain": [
       "<Figure size 432x288 with 1 Axes>"
      ]
     },
     "metadata": {
      "needs_background": "light"
     },
     "output_type": "display_data"
    }
   ],
   "source": [
    "\"\"\"测试\"\"\"\n",
    "preds = []\n",
    "for i, data in enumerate(test_loader):\n",
    "    x, y = data\n",
    "    x = x.view(-1, 10, 1)\n",
    "    hidden = torch.zeros(1, 5, 10)\n",
    "    pred = net(x, h0)\n",
    "    preds.append(pred.data.numpy())\n",
    "    print(y.view(1, -1).data)\n",
    "    print(pred.view(1, -1).data, '\\n')\n",
    "\n",
    "plt.scatter(range(len(train_y)), train_y.data.numpy(), marker='o')\n",
    "plt.scatter(range(150, 200), preds, marker='s')\n",
    "plt.show()"
   ]
  }
 ],
 "metadata": {
  "kernelspec": {
   "display_name": "Python 3",
   "language": "python",
   "name": "python3"
  },
  "language_info": {
   "codemirror_mode": {
    "name": "ipython",
    "version": 3
   },
   "file_extension": ".py",
   "mimetype": "text/x-python",
   "name": "python",
   "nbconvert_exporter": "python",
   "pygments_lexer": "ipython3",
   "version": "3.7.3"
  }
 },
 "nbformat": 4,
 "nbformat_minor": 0
}
