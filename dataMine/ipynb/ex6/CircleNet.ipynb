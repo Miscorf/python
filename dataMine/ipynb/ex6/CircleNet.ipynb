{
 "cells": [
  {
   "cell_type": "code",
   "execution_count": 1,
   "metadata": {},
   "outputs": [],
   "source": [
    "import torch\n",
    "import torch.nn as nn\n",
    "import torch.nn.functional as F\n",
    "import numpy as np\n",
    "import pandas as pd\n",
    "from torch.utils.data import Dataset,DataLoader, TensorDataset \n",
    "from sklearn.utils import shuffle \n",
    "import matplotlib. pyplot as plt"
   ]
  },
  {
   "cell_type": "code",
   "execution_count": 2,
   "metadata": {},
   "outputs": [],
   "source": [
    "def getSeq(start ,n ):\n",
    "    x = [6*x+7 for x in range(start, start+n)]\n",
    "    return x\n",
    "    "
   ]
  },
  {
   "cell_type": "code",
   "execution_count": 3,
   "metadata": {},
   "outputs": [
    {
     "name": "stdout",
     "output_type": "stream",
     "text": [
      "(tensor([151., 157., 163., 169., 175.]), tensor([151., 157., 163., 169., 175.]))\n",
      "(tensor([19., 25., 31., 37., 43.]), tensor([19., 25., 31., 37., 43.]))\n",
      "(tensor([151., 157., 163., 169., 175.]), tensor([151., 157., 163., 169., 175.]))\n",
      "(tensor([139., 145., 151., 157., 163.]), tensor([139., 145., 151., 157., 163.]))\n",
      "(tensor([ 7., 13., 19., 25., 31.]), tensor([ 7., 13., 19., 25., 31.]))\n",
      "(tensor([25., 31., 37., 43., 49.]), tensor([25., 31., 37., 43., 49.]))\n",
      "(tensor([73., 79., 85., 91., 97.]), tensor([73., 79., 85., 91., 97.]))\n",
      "(tensor([ 7., 13., 19., 25., 31.]), tensor([ 7., 13., 19., 25., 31.]))\n",
      "(tensor([61., 67., 73., 79., 85.]), tensor([61., 67., 73., 79., 85.]))\n",
      "(tensor([115., 121., 127., 133., 139.]), tensor([115., 121., 127., 133., 139.]))\n",
      "<torch.utils.data.dataset.TensorDataset object at 0x000001ACB7E504A8>\n"
     ]
    }
   ],
   "source": [
    "data = []\n",
    "for i in range(100):\n",
    "    rnd = np.random.randint(0,25)\n",
    "    data.append(getSeq(rnd,6))\n",
    "\n",
    "data = np.array(data)\n",
    "data = torch.from_numpy(data)\n",
    "\n",
    "target = data[:,-1:].type(torch.FloatTensor)\n",
    "data = data[:,:-1].type(torch.FloatTensor)\n",
    "\n",
    "tarin_x = data[:90]\n",
    "tarin_y = data[:90]\n",
    "test_x = data[90:]\n",
    "test_y = data[90:]\n",
    "\n",
    "train_dataset = TensorDataset(tarin_x,tarin_y)\n",
    "test_dataset = TensorDataset(test_x,test_y)\n",
    "for i in test_dataset:\n",
    "    print(i)\n",
    "print(test_dataset)\n",
    "train_loader=DataLoader(dataset=train_dataset, batch_size=5, shuffle=True) #训练数据加载器\n",
    "test_loader=DataLoader(dataset=test_dataset, batch_size=5, shuffle=True)#测试数据加载器\n"
   ]
  },
  {
   "cell_type": "code",
   "execution_count": 4,
   "metadata": {},
   "outputs": [],
   "source": [
    "#==========构建网络========== \n",
    "class model(nn.Module):\n",
    "    def __init__(self):\n",
    "        super().__init__()\n",
    "        self.rnn = nn.RNN(1,10,batch_first=True)\n",
    "        self.lstm = nn.LSTM(1,10,1,batch_first = True)\n",
    "        self.gru = nn.GRU(1,10,batch_first = True)\n",
    "        self.fc = nn.Linear(10,1)\n",
    "    def forward(self,x,hidden,c0): \n",
    "        output,(hidden,c0) = self.lstm(x,(hidden,c0))\n",
    "        output = output[:,-1,:]\n",
    "        output = self.fc(output)\n",
    "        return output\n",
    "        "
   ]
  },
  {
   "cell_type": "code",
   "execution_count": 5,
   "metadata": {},
   "outputs": [],
   "source": [
    "net = model()\n",
    "loss_fn = nn.MSELoss()\n",
    "opt = torch.optim.Adam(net.parameters(),lr = 0.001)"
   ]
  },
  {
   "cell_type": "code",
   "execution_count": 6,
   "metadata": {},
   "outputs": [
    {
     "name": "stderr",
     "output_type": "stream",
     "text": [
      "D:\\Mis\\Anaconda\\lib\\site-packages\\torch\\nn\\modules\\loss.py:520: UserWarning: Using a target size (torch.Size([5, 5])) that is different to the input size (torch.Size([5, 1])). This will likely lead to incorrect results due to broadcasting. Please ensure they have the same size.\n",
      "  return F.mse_loss(input, target, reduction=self.reduction)\n"
     ]
    },
    {
     "name": "stdout",
     "output_type": "stream",
     "text": [
      "tensor(7824.1792)\n",
      "tensor(10142.6709)\n",
      "tensor(8056.4995)\n",
      "tensor(6470.7246)\n",
      "tensor(2218.9814)\n",
      "tensor(876.7162)\n",
      "tensor(853.7678)\n",
      "tensor(203.4917)\n",
      "tensor(371.1649)\n",
      "tensor(92.6639)\n",
      "tensor(72.9682)\n",
      "tensor(73.8712)\n"
     ]
    }
   ],
   "source": [
    "h0 = torch.zeros(1,5,10)\n",
    "c0 = torch.zeros(1,5,10)\n",
    "\n",
    "for epoch in range(1200):\n",
    "    for i,data in enumerate(train_loader):\n",
    "        x,y = data \n",
    "        x=x.view(-1,5,1)\n",
    "\n",
    "        pred = net(x,h0,c0)\n",
    "        loss = loss_fn(pred,y)\n",
    "        \n",
    "        opt.zero_grad()\n",
    "        loss.backward()\n",
    "        opt.step()\n",
    "    \n",
    "    if(epoch%100==0):\n",
    "        print(loss.data)\n",
    "\n"
   ]
  },
  {
   "cell_type": "code",
   "execution_count": 7,
   "metadata": {},
   "outputs": [
    {
     "name": "stdout",
     "output_type": "stream",
     "text": [
      "tensor([[  7.,  13.,  19.,  25.,  31., 151., 157., 163., 169., 175.,   7.,  13.,\n",
      "          19.,  25.,  31., 151., 157., 163., 169., 175., 139., 145., 151., 157.,\n",
      "         163.]])\n",
      "tensor([[ 19.0681, 157.5084,  19.0681, 157.5084, 153.5356]])\n",
      "tensor([[ 61.,  67.,  73.,  79.,  85.,  73.,  79.,  85.,  91.,  97.,  25.,  31.,\n",
      "          37.,  43.,  49.,  19.,  25.,  31.,  37.,  43., 115., 121., 127., 133.,\n",
      "         139.]])\n",
      "tensor([[ 72.3741,  85.4759,  36.8813,  31.0547, 129.0752]])\n"
     ]
    }
   ],
   "source": [
    "rights = 0\n",
    "length = 0\n",
    "for i,data  in enumerate(test_loader):\n",
    "    x,y =data\n",
    "    x=x.view(-1,5,1)\n",
    "    hidden = torch.zeros(1,5,10)\n",
    "    pred = net(x,h0,c0)\n",
    "    print(y.view(1,-1))\n",
    "    print(pred.view(1,-1).data)\n"
   ]
  }
 ],
 "metadata": {
  "interpreter": {
   "hash": "ca0422c9975e5e7cf4e0d46dbc04b8de393be20f639917ec80eabe195a811ef3"
  },
  "kernelspec": {
   "display_name": "Python 3.7.3 64-bit ('base': conda)",
   "language": "python",
   "name": "python3"
  },
  "language_info": {
   "codemirror_mode": {
    "name": "ipython",
    "version": 3
   },
   "file_extension": ".py",
   "mimetype": "text/x-python",
   "name": "python",
   "nbconvert_exporter": "python",
   "pygments_lexer": "ipython3",
   "version": "3.7.3"
  },
  "orig_nbformat": 4
 },
 "nbformat": 4,
 "nbformat_minor": 2
}
